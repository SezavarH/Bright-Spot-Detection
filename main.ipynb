{
 "cells": [
  {
   "cell_type": "markdown",
   "metadata": {},
   "source": [
    "# IN THE NAME OF GOD"
   ]
  },
  {
   "cell_type": "markdown",
   "metadata": {},
   "source": [
    "Detect bright spots in image\n",
    "\n",
    "    steps:\n",
    "        * read image, show it\n",
    "        * convert image to gray, then pass it to threshold, \n",
    "          Makes bright spots in the output binary image white and the rest black\n",
    "        * do opening operation to remove noise outside of each bright spot\n",
    "        * find contours and give the unique label to each one"
   ]
  },
  {
   "cell_type": "code",
   "execution_count": 9,
   "metadata": {},
   "outputs": [],
   "source": [
    "import cv2\n",
    "import matplotlib.pyplot as plt\n",
    "\n",
    "img = cv2.imread('bulbs.jpg')\n",
    "gray = cv2.cvtColor(img, cv2.COLOR_BGR2GRAY)\n",
    "\n",
    "cv2.imshow('Gray', gray)\n",
    "\n",
    "\n",
    "_,thresh = cv2.threshold(gray , 200, 255, cv2.THRESH_BINARY)\n",
    "cv2.imshow('threshold', thresh)\n",
    "\n",
    "thresh = cv2.erode(thresh, None, iterations=2)\n",
    "thresh1 = cv2.dilate(thresh, None, iterations=4)\n",
    "cv2.imshow('after opening', thresh1)\n",
    "\n",
    "cnts,hir = cv2.findContours(thresh1, cv2.RETR_TREE, cv2.CHAIN_APPROX_SIMPLE)\n",
    "#for cnt in cnts:\n",
    "#    cv2.drawContours(img, [cnt], -1, (0,255,0), 2 )\n",
    "\n",
    "for (i, c) in enumerate(cnts):\n",
    "    (x, y, w, h) = cv2.boundingRect(c)\n",
    "    cv2.rectangle(img, (x,y), (x+w, y+h), (0,255,0), 5)\n",
    "    cv2.putText(img, \"#{}\".format(i + 1), (x, y - 15), cv2.FONT_HERSHEY_SIMPLEX, 0.45, (255, 255, 255), 3)\n",
    "\n",
    "\n",
    "\n",
    "\n",
    "cv2.imshow('Result', img)\n",
    "cv2.waitKey(0)\n",
    "cv2.destroyAllWindows()"
   ]
  },
  {
   "cell_type": "code",
   "execution_count": null,
   "metadata": {},
   "outputs": [],
   "source": []
  }
 ],
 "metadata": {
  "kernelspec": {
   "display_name": "Python 3",
   "language": "python",
   "name": "python3"
  },
  "language_info": {
   "codemirror_mode": {
    "name": "ipython",
    "version": 3
   },
   "file_extension": ".py",
   "mimetype": "text/x-python",
   "name": "python",
   "nbconvert_exporter": "python",
   "pygments_lexer": "ipython3",
   "version": "3.7.5"
  }
 },
 "nbformat": 4,
 "nbformat_minor": 4
}
